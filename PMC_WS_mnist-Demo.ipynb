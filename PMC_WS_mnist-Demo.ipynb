{
  "cells": [
    {
      "cell_type": "markdown",
      "id": "34fded74",
      "metadata": {
        "papermill": {
          "duration": 0.004191,
          "end_time": "2023-03-15T10:52:35.400930",
          "exception": false,
          "start_time": "2023-03-15T10:52:35.396739",
          "status": "completed"
        },
        "tags": [],
        "id": "34fded74"
      },
      "source": [
        "## Setup\n",
        "This notebook requires some packages besides pytorch-lightning."
      ]
    },
    {
      "cell_type": "code",
      "execution_count": null,
      "id": "1677b0d2",
      "metadata": {
        "execution": {
          "iopub.execute_input": "2023-03-15T10:52:35.407494Z",
          "iopub.status.busy": "2023-03-15T10:52:35.407141Z",
          "iopub.status.idle": "2023-03-15T10:52:38.694278Z",
          "shell.execute_reply": "2023-03-15T10:52:38.693256Z"
        },
        "id": "1677b0d2",
        "lines_to_next_cell": 0,
        "papermill": {
          "duration": 3.293351,
          "end_time": "2023-03-15T10:52:38.696867",
          "exception": false,
          "start_time": "2023-03-15T10:52:35.403516",
          "status": "completed"
        },
        "tags": []
      },
      "outputs": [],
      "source": [
        "#! pip install --quiet \"seaborn\" \"pytorch-lightning>=1.4, <2.0.0\" \"torchvision\" \"setuptools==67.4.0\" \"lightning>=2.0.0rc0\" \"ipython[notebook]>=8.0.0, <8.12.0\" \"pandas\" \"torchmetrics >=0.11.0\" \"torch>=1.8.1, <1.14.0\" \"torchmetrics>=0.7, <0.12\""
      ]
    },
    {
      "cell_type": "code",
      "execution_count": null,
      "id": "61040850",
      "metadata": {
        "execution": {
          "iopub.execute_input": "2023-03-15T10:52:38.704796Z",
          "iopub.status.busy": "2023-03-15T10:52:38.704420Z",
          "iopub.status.idle": "2023-03-15T10:52:41.976645Z",
          "shell.execute_reply": "2023-03-15T10:52:41.975673Z"
        },
        "papermill": {
          "duration": 3.279766,
          "end_time": "2023-03-15T10:52:41.979880",
          "exception": false,
          "start_time": "2023-03-15T10:52:38.700114",
          "status": "completed"
        },
        "tags": [],
        "id": "61040850"
      },
      "outputs": [],
      "source": [
        "import os\n",
        "\n",
        "import lightning as L\n",
        "import pandas as pd\n",
        "import seaborn as sn\n",
        "import torch\n",
        "from IPython.display import display\n",
        "from lightning.pytorch.loggers import CSVLogger\n",
        "from torch import nn\n",
        "from torch.nn import functional as F\n",
        "from torch.utils.data import DataLoader, random_split\n",
        "from torchmetrics import Accuracy\n",
        "from torchvision import transforms\n",
        "from torchvision.datasets import MNIST\n",
        "\n",
        "PATH_DATASETS = os.environ.get(\"PATH_DATASETS\", \".\")\n",
        "BATCH_SIZE = 256 if torch.cuda.is_available() else 64"
      ]
    },
    {
      "cell_type": "markdown",
      "id": "525db095",
      "metadata": {
        "lines_to_next_cell": 2,
        "papermill": {
          "duration": 0.003391,
          "end_time": "2023-03-15T10:52:41.989818",
          "exception": false,
          "start_time": "2023-03-15T10:52:41.986427",
          "status": "completed"
        },
        "tags": [],
        "id": "525db095"
      },
      "source": [
        "## Simplest example\n",
        "\n",
        "Here's the simplest most minimal example with just a training loop (no validation, no testing).\n",
        "\n",
        "**Keep in Mind** - A `LightningModule` *is* a PyTorch `nn.Module` - it just has a few more helpful features."
      ]
    },
    {
      "cell_type": "code",
      "execution_count": null,
      "id": "d7fd5aa3",
      "metadata": {
        "execution": {
          "iopub.execute_input": "2023-03-15T10:52:41.998177Z",
          "iopub.status.busy": "2023-03-15T10:52:41.997250Z",
          "iopub.status.idle": "2023-03-15T10:52:42.006185Z",
          "shell.execute_reply": "2023-03-15T10:52:42.005593Z"
        },
        "papermill": {
          "duration": 0.015597,
          "end_time": "2023-03-15T10:52:42.008612",
          "exception": false,
          "start_time": "2023-03-15T10:52:41.993015",
          "status": "completed"
        },
        "tags": [],
        "id": "d7fd5aa3"
      },
      "outputs": [],
      "source": [
        "class MNISTModel(L.LightningModule):\n",
        "    def __init__(self):\n",
        "        super().__init__()\n",
        "        self.l1 = torch.nn.Linear(28 * 28, 10)\n",
        "\n",
        "    def forward(self, x):\n",
        "        return torch.relu(self.l1(x.view(x.size(0), -1)))\n",
        "\n",
        "    def training_step(self, batch, batch_nb):\n",
        "        x, y = batch\n",
        "        loss = F.cross_entropy(self(x), y)\n",
        "        return loss\n",
        "\n",
        "    def configure_optimizers(self):\n",
        "        return torch.optim.Adam(self.parameters(), lr=0.02)"
      ]
    },
    {
      "cell_type": "markdown",
      "id": "d889d2c8",
      "metadata": {
        "papermill": {
          "duration": 0.003515,
          "end_time": "2023-03-15T10:52:42.018006",
          "exception": false,
          "start_time": "2023-03-15T10:52:42.014491",
          "status": "completed"
        },
        "tags": [],
        "id": "d889d2c8"
      },
      "source": [
        "By using the `Trainer` you automatically get:\n",
        "1. Tensorboard logging\n",
        "2. Model checkpointing\n",
        "3. Training and validation loop\n",
        "4. early-stopping"
      ]
    },
    {
      "cell_type": "code",
      "execution_count": null,
      "id": "bb6cb1f2",
      "metadata": {
        "execution": {
          "iopub.execute_input": "2023-03-15T10:52:42.027654Z",
          "iopub.status.busy": "2023-03-15T10:52:42.027265Z",
          "iopub.status.idle": "2023-03-15T10:53:01.085934Z",
          "shell.execute_reply": "2023-03-15T10:53:01.085233Z"
        },
        "papermill": {
          "duration": 19.065087,
          "end_time": "2023-03-15T10:53:01.087714",
          "exception": false,
          "start_time": "2023-03-15T10:52:42.022627",
          "status": "completed"
        },
        "tags": [],
        "id": "bb6cb1f2"
      },
      "outputs": [],
      "source": [
        "# Init our model\n",
        "mnist_model = MNISTModel()\n",
        "\n",
        "# Init DataLoader from MNIST Dataset\n",
        "train_ds = MNIST(PATH_DATASETS, train=True, download=True, transform=transforms.ToTensor())\n",
        "train_loader = DataLoader(train_ds, batch_size=BATCH_SIZE)\n",
        "\n",
        "# Initialize a trainer\n",
        "trainer = L.Trainer(\n",
        "    accelerator=\"auto\",\n",
        "    devices=1,\n",
        "    max_epochs=3,\n",
        ")\n",
        "\n",
        "# Train the model ⚡\n",
        "trainer.fit(mnist_model, train_loader)"
      ]
    },
    {
      "cell_type": "markdown",
      "id": "3026f08d",
      "metadata": {
        "lines_to_next_cell": 2,
        "papermill": {
          "duration": 0.004221,
          "end_time": "2023-03-15T10:53:01.099138",
          "exception": false,
          "start_time": "2023-03-15T10:53:01.094917",
          "status": "completed"
        },
        "tags": [],
        "id": "3026f08d"
      },
      "source": [
        "## A more complete MNIST Lightning Module Example\n",
        "\n",
        "That wasn't so hard was it?\n",
        "\n",
        "Now that we've got our feet wet, let's dive in a bit deeper and write a more complete `LightningModule` for MNIST...\n",
        "\n",
        "This time, we'll bake in all the dataset specific pieces directly in the `LightningModule`.\n",
        "This way, we can avoid writing extra code at the beginning of our script every time we want to run it.\n",
        "\n",
        "---\n",
        "\n",
        "### Note what the following built-in functions are doing:\n",
        "\n",
        "1. [prepare_data()](https://lightning.ai/docs/pytorch/stable/common/lightning_module.html#prepare-data) 💾\n",
        "    - This is where we can download the dataset. We point to our desired dataset and ask torchvision's `MNIST` dataset class to download if the dataset isn't found there.\n",
        "    - **Note we do not make any state assignments in this function** (i.e. `self.something = ...`)\n",
        "\n",
        "2. [setup(stage)](https://lightning.ai/docs/pytorch/stable/common/lightning_module.html#setup) ⚙️\n",
        "    - Loads in data from file and prepares PyTorch tensor datasets for each split (train, val, test).\n",
        "    - Setup expects a 'stage' arg which is used to separate logic for 'fit' and 'test'.\n",
        "    - If you don't mind loading all your datasets at once, you can set up a condition to allow for both 'fit' related setup and 'test' related setup to run whenever `None` is passed to `stage` (or ignore it altogether and exclude any conditionals).\n",
        "    - **Note this runs across all GPUs and it *is* safe to make state assignments here**\n",
        "\n",
        "3. [x_dataloader()](https://lightning.ai/docs/pytorch/stable/api/pytorch_lightning.core.hooks.DataHooks.html#pytorch_lightning.core.hooks.DataHooks.train_dataloader) ♻️\n",
        "    - `train_dataloader()`, `val_dataloader()`, and `test_dataloader()` all return PyTorch `DataLoader` instances that are created by wrapping their respective datasets that we prepared in `setup()`"
      ]
    },
    {
      "cell_type": "code",
      "execution_count": null,
      "id": "f6c60301",
      "metadata": {
        "execution": {
          "iopub.execute_input": "2023-03-15T10:53:01.110802Z",
          "iopub.status.busy": "2023-03-15T10:53:01.109929Z",
          "iopub.status.idle": "2023-03-15T10:53:01.132035Z",
          "shell.execute_reply": "2023-03-15T10:53:01.131061Z"
        },
        "papermill": {
          "duration": 0.031258,
          "end_time": "2023-03-15T10:53:01.134236",
          "exception": false,
          "start_time": "2023-03-15T10:53:01.102978",
          "status": "completed"
        },
        "tags": [],
        "id": "f6c60301"
      },
      "outputs": [],
      "source": [
        "class LitMNIST(L.LightningModule):\n",
        "    def __init__(self, data_dir=PATH_DATASETS, hidden_size=64, learning_rate=2e-4):\n",
        "        super().__init__()\n",
        "\n",
        "        # Set our init args as class attributes\n",
        "        self.data_dir = data_dir\n",
        "        self.hidden_size = hidden_size\n",
        "        self.learning_rate = learning_rate\n",
        "\n",
        "        # Hardcode some dataset specific attributes\n",
        "        self.num_classes = 10\n",
        "        self.dims = (1, 28, 28)\n",
        "        channels, width, height = self.dims\n",
        "        self.transform = transforms.Compose(\n",
        "            [\n",
        "                transforms.ToTensor(),\n",
        "                transforms.Normalize((0.1307,), (0.3081,)),\n",
        "            ]\n",
        "        )\n",
        "\n",
        "        # Define PyTorch model\n",
        "        self.model = nn.Sequential(\n",
        "            nn.Flatten(),\n",
        "            nn.Linear(channels * width * height, hidden_size),\n",
        "            nn.ReLU(),\n",
        "            nn.Dropout(0.1),\n",
        "            nn.Linear(hidden_size, hidden_size),\n",
        "            nn.ReLU(),\n",
        "            nn.Dropout(0.1),\n",
        "            nn.Linear(hidden_size, self.num_classes),\n",
        "        )\n",
        "\n",
        "        self.val_accuracy = Accuracy(task=\"multiclass\", num_classes=10)\n",
        "        self.test_accuracy = Accuracy(task=\"multiclass\", num_classes=10)\n",
        "\n",
        "    def forward(self, x):\n",
        "        x = self.model(x)\n",
        "        return F.log_softmax(x, dim=1)\n",
        "\n",
        "    def training_step(self, batch, batch_idx):\n",
        "        x, y = batch\n",
        "        logits = self(x)\n",
        "        loss = F.nll_loss(logits, y)\n",
        "        return loss\n",
        "\n",
        "    def validation_step(self, batch, batch_idx):\n",
        "        x, y = batch\n",
        "        logits = self(x)\n",
        "        loss = F.nll_loss(logits, y)\n",
        "        preds = torch.argmax(logits, dim=1)\n",
        "        self.val_accuracy.update(preds, y)\n",
        "\n",
        "        # Calling self.log will surface up scalars for you in TensorBoard\n",
        "        self.log(\"val_loss\", loss, prog_bar=True)\n",
        "        self.log(\"val_acc\", self.val_accuracy, prog_bar=True)\n",
        "\n",
        "    def test_step(self, batch, batch_idx):\n",
        "        x, y = batch\n",
        "        logits = self(x)\n",
        "        loss = F.nll_loss(logits, y)\n",
        "        preds = torch.argmax(logits, dim=1)\n",
        "        self.test_accuracy.update(preds, y)\n",
        "\n",
        "        # Calling self.log will surface up scalars for you in TensorBoard\n",
        "        self.log(\"test_loss\", loss, prog_bar=True)\n",
        "        self.log(\"test_acc\", self.test_accuracy, prog_bar=True)\n",
        "\n",
        "    def configure_optimizers(self):\n",
        "        optimizer = torch.optim.Adam(self.parameters(), lr=self.learning_rate)\n",
        "        return optimizer\n",
        "\n",
        "    ####################\n",
        "    # DATA RELATED HOOKS\n",
        "    ####################\n",
        "\n",
        "    def prepare_data(self):\n",
        "        # download\n",
        "        MNIST(self.data_dir, train=True, download=True)\n",
        "        MNIST(self.data_dir, train=False, download=True)\n",
        "\n",
        "    def setup(self, stage=None):\n",
        "        # Assign train/val datasets for use in dataloaders\n",
        "        if stage == \"fit\" or stage is None:\n",
        "            mnist_full = MNIST(self.data_dir, train=True, transform=self.transform)\n",
        "            self.mnist_train, self.mnist_val = random_split(mnist_full, [55000, 5000])\n",
        "\n",
        "        # Assign test dataset for use in dataloader(s)\n",
        "        if stage == \"test\" or stage is None:\n",
        "            self.mnist_test = MNIST(self.data_dir, train=False, transform=self.transform)\n",
        "\n",
        "    def train_dataloader(self):\n",
        "        return DataLoader(self.mnist_train, batch_size=BATCH_SIZE)\n",
        "\n",
        "    def val_dataloader(self):\n",
        "        return DataLoader(self.mnist_val, batch_size=BATCH_SIZE)\n",
        "\n",
        "    def test_dataloader(self):\n",
        "        return DataLoader(self.mnist_test, batch_size=BATCH_SIZE)"
      ]
    },
    {
      "cell_type": "code",
      "execution_count": null,
      "id": "2eae34ee",
      "metadata": {
        "execution": {
          "iopub.execute_input": "2023-03-15T10:53:01.146924Z",
          "iopub.status.busy": "2023-03-15T10:53:01.146587Z",
          "iopub.status.idle": "2023-03-15T10:53:27.802216Z",
          "shell.execute_reply": "2023-03-15T10:53:27.801283Z"
        },
        "papermill": {
          "duration": 26.663806,
          "end_time": "2023-03-15T10:53:27.804001",
          "exception": false,
          "start_time": "2023-03-15T10:53:01.140195",
          "status": "completed"
        },
        "tags": [],
        "id": "2eae34ee"
      },
      "outputs": [],
      "source": [
        "model = LitMNIST()\n",
        "trainer = L.Trainer(\n",
        "    accelerator=\"auto\",\n",
        "    devices=1,\n",
        "    max_epochs=3,\n",
        "    logger=CSVLogger(save_dir=\"logs/\"),\n",
        ")\n",
        "trainer.fit(model)"
      ]
    },
    {
      "cell_type": "markdown",
      "id": "19510931",
      "metadata": {
        "papermill": {
          "duration": 0.0062,
          "end_time": "2023-03-15T10:53:27.817925",
          "exception": false,
          "start_time": "2023-03-15T10:53:27.811725",
          "status": "completed"
        },
        "tags": [],
        "id": "19510931"
      },
      "source": [
        "### Testing\n",
        "\n",
        "To test a model, call `trainer.test(model)`.\n",
        "\n",
        "Or, if you've just trained a model, you can just call `trainer.test()` and Lightning will automatically\n",
        "test using the best saved checkpoint (conditioned on val_loss)."
      ]
    },
    {
      "cell_type": "code",
      "execution_count": null,
      "id": "9a149c25",
      "metadata": {
        "execution": {
          "iopub.execute_input": "2023-03-15T10:53:27.829422Z",
          "iopub.status.busy": "2023-03-15T10:53:27.829050Z",
          "iopub.status.idle": "2023-03-15T10:53:29.221980Z",
          "shell.execute_reply": "2023-03-15T10:53:29.221429Z"
        },
        "papermill": {
          "duration": 1.400795,
          "end_time": "2023-03-15T10:53:29.223522",
          "exception": false,
          "start_time": "2023-03-15T10:53:27.822727",
          "status": "completed"
        },
        "tags": [],
        "id": "9a149c25"
      },
      "outputs": [],
      "source": [
        "trainer.test()"
      ]
    },
    {
      "cell_type": "markdown",
      "id": "1a84b96f",
      "metadata": {
        "papermill": {
          "duration": 0.00662,
          "end_time": "2023-03-15T10:53:29.238296",
          "exception": false,
          "start_time": "2023-03-15T10:53:29.231676",
          "status": "completed"
        },
        "tags": [],
        "id": "1a84b96f"
      },
      "source": [
        "### Bonus Tip\n",
        "\n",
        "You can keep calling `trainer.fit(model)` as many times as you'd like to continue training"
      ]
    },
    {
      "cell_type": "code",
      "execution_count": null,
      "id": "f07b46d0",
      "metadata": {
        "execution": {
          "iopub.execute_input": "2023-03-15T10:53:29.250657Z",
          "iopub.status.busy": "2023-03-15T10:53:29.250287Z",
          "iopub.status.idle": "2023-03-15T10:53:29.463735Z",
          "shell.execute_reply": "2023-03-15T10:53:29.462980Z"
        },
        "papermill": {
          "duration": 0.222294,
          "end_time": "2023-03-15T10:53:29.466001",
          "exception": false,
          "start_time": "2023-03-15T10:53:29.243707",
          "status": "completed"
        },
        "tags": [],
        "id": "f07b46d0"
      },
      "outputs": [],
      "source": [
        "trainer.fit(model)"
      ]
    },
    {
      "cell_type": "markdown",
      "id": "0bce274e",
      "metadata": {
        "papermill": {
          "duration": 0.007134,
          "end_time": "2023-03-15T10:53:29.481972",
          "exception": false,
          "start_time": "2023-03-15T10:53:29.474838",
          "status": "completed"
        },
        "tags": [],
        "id": "0bce274e"
      },
      "source": [
        "In Colab, you can use the TensorBoard magic function to view the logs that Lightning has created for you!"
      ]
    },
    {
      "cell_type": "code",
      "execution_count": null,
      "id": "156662bf",
      "metadata": {
        "execution": {
          "iopub.execute_input": "2023-03-15T10:53:29.494949Z",
          "iopub.status.busy": "2023-03-15T10:53:29.494491Z",
          "iopub.status.idle": "2023-03-15T10:53:30.049467Z",
          "shell.execute_reply": "2023-03-15T10:53:30.048869Z"
        },
        "papermill": {
          "duration": 0.564254,
          "end_time": "2023-03-15T10:53:30.051905",
          "exception": false,
          "start_time": "2023-03-15T10:53:29.487651",
          "status": "completed"
        },
        "tags": [],
        "id": "156662bf"
      },
      "outputs": [],
      "source": [
        "\n",
        "metrics = pd.read_csv(f\"{trainer.logger.log_dir}/metrics.csv\")\n",
        "del metrics[\"step\"]\n",
        "metrics.set_index(\"epoch\", inplace=True)\n",
        "display(metrics.dropna(axis=1, how=\"all\").head())\n",
        "sn.relplot(data=metrics, kind=\"line\")"
      ]
    }
  ],
  "metadata": {
    "jupytext": {
      "cell_metadata_filter": "colab_type,id,colab,-all",
      "formats": "ipynb,py:percent",
      "main_language": "python"
    },
    "language_info": {
      "name": "python"
    },
    "papermill": {
      "default_parameters": {},
      "duration": 57.226739,
      "end_time": "2023-03-15T10:53:31.299737",
      "environment_variables": {},
      "exception": null,
      "input_path": "lightning_examples/mnist-hello-world/hello-world.ipynb",
      "output_path": ".notebooks/lightning_examples/mnist-hello-world.ipynb",
      "parameters": {},
      "start_time": "2023-03-15T10:52:34.072998",
      "version": "2.4.0"
    },
    "colab": {
      "provenance": []
    },
    "accelerator": "GPU",
    "gpuClass": "standard",
    "kernelspec": {
      "name": "python3",
      "display_name": "Python 3"
    }
  },
  "nbformat": 4,
  "nbformat_minor": 5
}